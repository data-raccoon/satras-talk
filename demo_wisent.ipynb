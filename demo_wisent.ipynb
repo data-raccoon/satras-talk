{
 "cells": [
  {
   "cell_type": "markdown",
   "metadata": {},
   "source": [
    "### game_scores.txt\n",
    "```text\n",
    "Alice > Bob\n",
    "Bob = Alice\n",
    "\n",
    "Alice > Bob > Charlie\n",
    "Alice = Bob > Charlie\n",
    "\n",
    "Alice, Bob > Charlie, David\n",
    "\n",
    "```"
   ]
  },
  {
   "cell_type": "code",
   "execution_count": null,
   "metadata": {},
   "outputs": [],
   "source": [
    "import trueskill as tr\n",
    "\n",
    "alice = bob = charlie = david = tr.Rating()"
   ]
  },
  {
   "cell_type": "code",
   "execution_count": null,
   "metadata": {},
   "outputs": [],
   "source": [
    "# Alice = (Bob, Charlie) > David\n",
    "teams = [[alice], [bob, charlie], [david]]\n",
    "ranks = [1, 1, 2]"
   ]
  },
  {
   "cell_type": "markdown",
   "metadata": {},
   "source": [
    "### grammar.wi\n",
    "\n",
    "```text\n",
    "game: _winorder ;\n",
    "\n",
    "_winorder: leftwins | draw | _team ;\n",
    "leftwins: _team '>' _winorder ;\n",
    "draw: _team '=' _winorder ;\n",
    "\n",
    "_team: PLAYER | player_in_team ;\n",
    "player_in_team: PLAYER ',' _team ;\n",
    "```"
   ]
  },
  {
   "cell_type": "markdown",
   "metadata": {},
   "source": [
    "### shell\n",
    "```text\n",
    "wisent grammar.wi > gameparser.py\n",
    "```\n",
    "\n",
    "* [gameparser.py](gameparser.py)"
   ]
  },
  {
   "cell_type": "code",
   "execution_count": null,
   "metadata": {},
   "outputs": [],
   "source": [
    "from gameparser import Parser\n",
    "from calc_skills import tokenize, eval_tree"
   ]
  },
  {
   "cell_type": "code",
   "execution_count": null,
   "metadata": {},
   "outputs": [],
   "source": [
    "game_line = \"Alice > Bob\""
   ]
  },
  {
   "cell_type": "markdown",
   "metadata": {},
   "source": [
    "```python\n",
    "def tokenize(line):\n",
    "#...\n",
    "    matches = re.match('[^>=,]+', line)\n",
    "#...\n",
    "```"
   ]
  },
  {
   "cell_type": "code",
   "execution_count": null,
   "metadata": {},
   "outputs": [],
   "source": [
    "tokens = tokenize(game_line)\n",
    "tokens"
   ]
  },
  {
   "cell_type": "code",
   "execution_count": null,
   "metadata": {},
   "outputs": [],
   "source": [
    "p = Parser(); tree = p.parse(tokens); tree"
   ]
  },
  {
   "cell_type": "markdown",
   "metadata": {},
   "source": [
    "```python\n",
    "def eval_tree(tree):\n",
    "# ...\n",
    "    if tree[0] == 'leftwins':\n",
    "        left = eval_tree(tree[1])\n",
    "        right = eval_tree(tree[3])\n",
    "        res_teams = left[\"teams\"] + right[\"teams\"]\n",
    "        res_ranks = left[\"ranks\"] + [\n",
    "            rank + max(left[\"ranks\"]) for rank in right[\"ranks\"]]\n",
    "        return {\"teams\": res_teams, \"ranks\": res_ranks}\n",
    "# ...\n",
    "```"
   ]
  },
  {
   "cell_type": "code",
   "execution_count": null,
   "metadata": {},
   "outputs": [],
   "source": [
    "eval_tree(tree)"
   ]
  },
  {
   "cell_type": "code",
   "execution_count": null,
   "metadata": {
    "collapsed": true
   },
   "outputs": [],
   "source": []
  }
 ],
 "metadata": {
  "kernelspec": {
   "display_name": "Python 2",
   "language": "python",
   "name": "python2"
  },
  "language_info": {
   "codemirror_mode": {
    "name": "ipython",
    "version": 2
   },
   "file_extension": ".py",
   "mimetype": "text/x-python",
   "name": "python",
   "nbconvert_exporter": "python",
   "pygments_lexer": "ipython2",
   "version": "2.7.12+"
  }
 },
 "nbformat": 4,
 "nbformat_minor": 2
}
