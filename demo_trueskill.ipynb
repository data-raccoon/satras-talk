{
 "cells": [
  {
   "cell_type": "markdown",
   "metadata": {},
   "source": [
    "### Trueskill"
   ]
  },
  {
   "cell_type": "code",
   "execution_count": null,
   "metadata": {},
   "outputs": [],
   "source": [
    "import pylab\n",
    "\n",
    "import numpy as np\n",
    "import scipy.stats as stats\n",
    "import trueskill as tr"
   ]
  },
  {
   "cell_type": "code",
   "execution_count": null,
   "metadata": {},
   "outputs": [],
   "source": [
    "alice = tr.Rating()\n",
    "alice"
   ]
  },
  {
   "cell_type": "code",
   "execution_count": null,
   "metadata": {},
   "outputs": [],
   "source": [
    "alice_dist = stats.norm(alice.mu, alice.sigma)\n",
    "x_a = np.linspace(alice_dist.ppf(0.01), alice_dist.ppf(0.99), 100)\n",
    "pylab.plt.plot(x_a, alice_dist.pdf(x_a))\n",
    "pylab.show()"
   ]
  },
  {
   "cell_type": "code",
   "execution_count": null,
   "metadata": {},
   "outputs": [],
   "source": [
    "bob = tr.Rating()\n",
    "charlie = tr.Rating()\n",
    "bob, charlie = tr.rate_1vs1(bob, charlie)"
   ]
  },
  {
   "cell_type": "code",
   "execution_count": null,
   "metadata": {},
   "outputs": [],
   "source": [
    "def plot_three():\n",
    "    bob_dist = stats.norm(bob.mu, bob.sigma)\n",
    "    charlie_dist = stats.norm(charlie.mu, charlie.sigma)\n",
    "    x_abc = np.linspace(min(alice_dist.ppf(0.01), bob_dist.ppf(0.01), charlie_dist.ppf(0.01)), \n",
    "                    max(alice_dist.ppf(0.99), bob_dist.ppf(0.99), charlie_dist.ppf(0.99)),\n",
    "                    100)\n",
    "    pylab.plt.plot(x_abc, alice_dist.pdf(x_abc), label=\"alice\")\n",
    "    pylab.plt.plot(x_abc, bob_dist.pdf(x_abc), label=\"bob\")\n",
    "    pylab.plt.plot(x_abc, charlie_dist.pdf(x_abc), label=\"charlie\")\n",
    "    pylab.plt.legend()\n",
    "    pylab.show()\n",
    "plot_three()"
   ]
  },
  {
   "cell_type": "code",
   "execution_count": null,
   "metadata": {},
   "outputs": [],
   "source": [
    "bob, charlie = tr.rate_1vs1(bob, charlie)\n",
    "bob, charlie = tr.rate_1vs1(bob, charlie)\n",
    "bob, charlie = tr.rate_1vs1(bob, charlie)\n",
    "bob, charlie = tr.rate_1vs1(bob, charlie)\n",
    "bob, charlie = tr.rate_1vs1(bob, charlie)\n",
    "plot_three()"
   ]
  },
  {
   "cell_type": "code",
   "execution_count": null,
   "metadata": {},
   "outputs": [],
   "source": [
    "charlie, bob = tr.rate_1vs1(charlie, bob)\n",
    "plot_three()"
   ]
  },
  {
   "cell_type": "code",
   "execution_count": null,
   "metadata": {},
   "outputs": [],
   "source": [
    "(\n",
    "    (alice, ), (bob, ), (charlie, )\n",
    ") = tr.rate([\n",
    "    (alice, ), (bob, ), (charlie, )\n",
    "], \n",
    "    ranks = [0, 1, 2]) # lower is better"
   ]
  },
  {
   "cell_type": "code",
   "execution_count": null,
   "metadata": {},
   "outputs": [],
   "source": [
    "plot_three()"
   ]
  },
  {
   "cell_type": "markdown",
   "metadata": {},
   "source": [
    "### All possible outcomes are covered\n",
    "\n",
    "* [http://trueskill.org/](http://trueskill.org/)"
   ]
  },
  {
   "cell_type": "markdown",
   "metadata": {},
   "source": [
    "### Show skills"
   ]
  },
  {
   "cell_type": "code",
   "execution_count": null,
   "metadata": {},
   "outputs": [],
   "source": [
    "david = tr.Rating()\n",
    "david_min = david.mu - 3 * david.sigma\n",
    "david_min"
   ]
  },
  {
   "cell_type": "code",
   "execution_count": null,
   "metadata": {},
   "outputs": [],
   "source": [
    "alice_min = alice.mu - 3 * alice.sigma\n",
    "bob_min = bob.mu - 3 * bob.sigma\n",
    "charlie_min = charlie.mu - 3 * charlie.sigma\n",
    "mins = [alice_min, bob_min, charlie_min]\n",
    "mins"
   ]
  },
  {
   "cell_type": "code",
   "execution_count": null,
   "metadata": {},
   "outputs": [],
   "source": [
    "pylab.plt.vlines(mins, 0, 0.1)\n",
    "plot_three()"
   ]
  },
  {
   "cell_type": "markdown",
   "metadata": {},
   "source": [
    "### Matchmaking"
   ]
  },
  {
   "cell_type": "code",
   "execution_count": null,
   "metadata": {},
   "outputs": [],
   "source": [
    "tr.quality_1vs1(alice, bob)"
   ]
  },
  {
   "cell_type": "code",
   "execution_count": null,
   "metadata": {},
   "outputs": [],
   "source": [
    "tr.quality([\n",
    "    (bob, ), \n",
    "    (alice, charlie)\n",
    "])"
   ]
  },
  {
   "cell_type": "code",
   "execution_count": null,
   "metadata": {},
   "outputs": [],
   "source": [
    "tr.quality([\n",
    "    (bob, tr.Rating()), \n",
    "    (alice, charlie)\n",
    "])"
   ]
  },
  {
   "cell_type": "markdown",
   "metadata": {},
   "source": [
    "### Influencing factors"
   ]
  },
  {
   "cell_type": "code",
   "execution_count": null,
   "metadata": {},
   "outputs": [],
   "source": [
    "handicap = tr.Rating()\n",
    "((alice, ), (bob, handicap)) = tr.rate([(alice, ), (bob, handicap)])"
   ]
  }
 ],
 "metadata": {
  "kernelspec": {
   "display_name": "Python 2",
   "language": "python",
   "name": "python2"
  },
  "language_info": {
   "codemirror_mode": {
    "name": "ipython",
    "version": 2
   },
   "file_extension": ".py",
   "mimetype": "text/x-python",
   "name": "python",
   "nbconvert_exporter": "python",
   "pygments_lexer": "ipython2",
   "version": "2.7.12+"
  }
 },
 "nbformat": 4,
 "nbformat_minor": 2
}
