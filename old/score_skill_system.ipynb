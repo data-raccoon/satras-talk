{
 "cells": [
  {
   "cell_type": "markdown",
   "metadata": {
    "deletable": true,
    "editable": true,
    "slideshow": {
     "slide_type": "slide"
    }
   },
   "source": [
    "# A score and skill keeping system in python"
   ]
  },
  {
   "cell_type": "markdown",
   "metadata": {
    "deletable": true,
    "editable": true,
    "slideshow": {
     "slide_type": "fragment"
    }
   },
   "source": [
    "- Situation\n",
    "  - playing competitive games\n",
    "  - multiplayer, various pairings\n",
    "  - determine who's better than who\n",
    "  - create fair pairings\n",
    "\n",
    "\n",
    "- Idea\n",
    "  - keep track of who wins\n",
    "  - calculate skill, compare\n",
    "\n",
    "\n",
    "- Extension\n",
    "  - show individual developments"
   ]
  },
  {
   "cell_type": "markdown",
   "metadata": {
    "deletable": true,
    "editable": true,
    "slideshow": {
     "slide_type": "slide"
    }
   },
   "source": [
    "## Architecture"
   ]
  },
  {
   "cell_type": "markdown",
   "metadata": {
    "deletable": true,
    "editable": true
   },
   "source": [
    "![Architecture](architecture.png)"
   ]
  },
  {
   "cell_type": "markdown",
   "metadata": {
    "deletable": true,
    "editable": true,
    "slideshow": {
     "slide_type": "slide"
    }
   },
   "source": [
    "## Score keeping: Domain specific language & Wisent package"
   ]
  },
  {
   "cell_type": "markdown",
   "metadata": {
    "deletable": true,
    "editable": true
   },
   "source": [
    "- Requirements\n",
    "  - easy way of writing down scores\n",
    "  - first place, second place, etc.\n",
    "\n",
    "\n",
    "- Idea\n",
    "  - develop a custom domain specific language ([wiki](https://en.wikipedia.org/wiki/Domain-specific_language)) / grammar \n",
    "  - parse that grammar using wisent \n",
    "\n",
    "\n",
    "- Restrictions\n",
    "  - context-free grammar, left-to-right, deterministic"
   ]
  },
  {
   "cell_type": "code",
   "execution_count": null,
   "metadata": {
    "collapsed": true
   },
   "outputs": [],
   "source": []
  },
  {
   "cell_type": "markdown",
   "metadata": {
    "deletable": true,
    "editable": true,
    "slideshow": {
     "slide_type": "slide"
    }
   },
   "source": [
    "### Grammar in use: game_scores.txt"
   ]
  },
  {
   "cell_type": "markdown",
   "metadata": {
    "deletable": true,
    "editable": true
   },
   "source": [
    "- examples how to write down game scores"
   ]
  },
  {
   "cell_type": "markdown",
   "metadata": {
    "deletable": true,
    "editable": true
   },
   "source": [
    "```text\n",
    "# 1 vs 1\n",
    "Foo > Bar\n",
    "Bar > Foo\n",
    "Bar = Foo\n",
    "\n",
    "# Free for all\n",
    "Foo > Bar > Batz\n",
    "Foo > Bar = Batz\n",
    "Foo = Bar > Batz\n",
    "Foo = Bar = Batz\n",
    "\n",
    "# Teams\n",
    "(Foo, Bar) > (Batz, Foobar)\n",
    "Foo > (Bar, Batz)\n",
    "```"
   ]
  },
  {
   "cell_type": "markdown",
   "metadata": {
    "deletable": true,
    "editable": true,
    "slideshow": {
     "slide_type": "slide"
    }
   },
   "source": [
    "### TrueSkill needs"
   ]
  },
  {
   "cell_type": "markdown",
   "metadata": {
    "collapsed": false,
    "deletable": true,
    "editable": true
   },
   "source": [
    "```python\n",
    "# Foo = (Bar, Batz) > Foobar\n",
    "teams = [[player_foo], [player_bar, player_batz], [player_foobar]]\n",
    "ranks = [1, 1, 2]\n",
    "```"
   ]
  },
  {
   "cell_type": "markdown",
   "metadata": {
    "deletable": true,
    "editable": true,
    "slideshow": {
     "slide_type": "fragment"
    }
   },
   "source": [
    "### Grammar definition: grammar.wi"
   ]
  },
  {
   "cell_type": "markdown",
   "metadata": {
    "deletable": true,
    "editable": true
   },
   "source": [
    "- Rules\n",
    "- Symbols, transparent symbols"
   ]
  },
  {
   "cell_type": "markdown",
   "metadata": {
    "deletable": true,
    "editable": true
   },
   "source": [
    "```text\n",
    "game: _winorder ;\n",
    "\n",
    "_winorder: leftwins | draw | _team ;\n",
    "leftwins: _team '>' _winorder ;\n",
    "draw: _team '=' _winorder ;\n",
    "\n",
    "_team: brackets | PLAYER ;\n",
    "brackets: '(' _multiple ')' ;\n",
    "_multiple: PLAYER | player_in_team ;\n",
    "player_in_team: PLAYER ',' _multiple ;\n",
    "```"
   ]
  },
  {
   "cell_type": "code",
   "execution_count": 5,
   "metadata": {
    "collapsed": false,
    "deletable": true,
    "editable": true,
    "slideshow": {
     "slide_type": "slide"
    }
   },
   "outputs": [],
   "source": [
    "from wisentparser import Parser\n",
    "from calc_skills import tokenize, eval_tree"
   ]
  },
  {
   "cell_type": "code",
   "execution_count": 6,
   "metadata": {
    "collapsed": false,
    "deletable": true,
    "editable": true
   },
   "outputs": [
    {
     "data": {
      "text/plain": [
       "[('PLAYER', 'Foo'), ('>',), ('PLAYER', 'Bar')]"
      ]
     },
     "execution_count": 6,
     "metadata": {},
     "output_type": "execute_result"
    }
   ],
   "source": [
    "game_line = \"Foo > Bar\"\n",
    "tokens = tokenize(game_line); tokens"
   ]
  },
  {
   "cell_type": "code",
   "execution_count": 7,
   "metadata": {
    "collapsed": false,
    "deletable": true,
    "editable": true,
    "slideshow": {
     "slide_type": "-"
    }
   },
   "outputs": [
    {
     "data": {
      "text/plain": [
       "('game', ('leftwins', ('PLAYER', 'Foo'), ('>',), ('PLAYER', 'Bar')))"
      ]
     },
     "execution_count": 7,
     "metadata": {},
     "output_type": "execute_result"
    }
   ],
   "source": [
    "p = Parser(); tree = p.parse(tokens); tree"
   ]
  },
  {
   "cell_type": "markdown",
   "metadata": {
    "collapsed": true,
    "deletable": true,
    "editable": true
   },
   "source": [
    "```python\n",
    "def eval_tree(tree):\n",
    "# ...\n",
    "    if tree[0] == 'leftwins':\n",
    "        left = eval_tree(tree[1])\n",
    "        right = eval_tree(tree[3])\n",
    "        res_teams = left[\"teams\"] + right[\"teams\"]\n",
    "        res_ranks = left[\"ranks\"] + [\n",
    "            rank + max(left[\"ranks\"]) for rank in right[\"ranks\"]]\n",
    "        return {\"teams\": res_teams, \"ranks\": res_ranks}\n",
    "# ...\n",
    "```"
   ]
  },
  {
   "cell_type": "code",
   "execution_count": 8,
   "metadata": {
    "collapsed": false,
    "deletable": true,
    "editable": true
   },
   "outputs": [
    {
     "data": {
      "text/plain": [
       "{'ranks': [1, 2], 'teams': [['Foo'], ['Bar']]}"
      ]
     },
     "execution_count": 8,
     "metadata": {},
     "output_type": "execute_result"
    }
   ],
   "source": [
    "eval_tree(tree)"
   ]
  },
  {
   "cell_type": "markdown",
   "metadata": {
    "deletable": true,
    "editable": true,
    "slideshow": {
     "slide_type": "slide"
    }
   },
   "source": [
    "## Skill calculation: TrueSkill package"
   ]
  },
  {
   "cell_type": "markdown",
   "metadata": {
    "deletable": true,
    "editable": true
   },
   "source": [
    "work in progress"
   ]
  },
  {
   "cell_type": "markdown",
   "metadata": {
    "deletable": true,
    "editable": true,
    "slideshow": {
     "slide_type": "slide"
    }
   },
   "source": [
    "## Visualization: "
   ]
  },
  {
   "cell_type": "markdown",
   "metadata": {
    "deletable": true,
    "editable": true
   },
   "source": [
    "work in progress"
   ]
  },
  {
   "cell_type": "markdown",
   "metadata": {
    "deletable": true,
    "editable": true,
    "slideshow": {
     "slide_type": "slide"
    }
   },
   "source": [
    "## References"
   ]
  },
  {
   "cell_type": "markdown",
   "metadata": {
    "deletable": true,
    "editable": true
   },
   "source": [
    "### Trueskill\n",
    "- [TrueSkill project](http://trueskill.org/)\n",
    "- [TrueSkill on GitHub](https://github.com/sublee/trueskill)\n",
    "- [TrueSkill on Wikipedia](https://en.wikipedia.org/wiki/TrueSkill)\n",
    "- [TrueSkill explanation](http://bit.ly/computing-your-skill)\n",
    "- [TrueSkill paper](http://research.microsoft.com/apps/pubs/default.aspx?id=67956)"
   ]
  },
  {
   "cell_type": "markdown",
   "metadata": {
    "deletable": true,
    "editable": true
   },
   "source": [
    "### Wisent\n",
    "- [Wisent author's project](http://www.seehuhn.de/pages/wisent)\n",
    "- [Wisent on GitHub](https://github.com/seehuhn/wisent)\n",
    "- [Wisent manual](http://www.seehuhn.de/manuals/wisent/)\n",
    "- [Wisent tutorial]()"
   ]
  },
  {
   "cell_type": "markdown",
   "metadata": {
    "deletable": true,
    "editable": true,
    "slideshow": {
     "slide_type": "slide"
    }
   },
   "source": [
    "### References"
   ]
  },
  {
   "cell_type": "markdown",
   "metadata": {
    "deletable": true,
    "editable": true
   },
   "source": [
    "### Visualization\n",
    "not yet done"
   ]
  },
  {
   "cell_type": "markdown",
   "metadata": {
    "deletable": true,
    "editable": true,
    "slideshow": {
     "slide_type": "-"
    }
   },
   "source": [
    "### This talk\n",
    "- This talk and project: [https://github.com/data-raccoon/trueskill_ranking](https://github.com/data-raccoon/trueskill_ranking)\n",
    "- Slides: [Jupyter](http://jupyter.org/)\n",
    "- Architecture graph: [yEd Graph Editor](https://www.yworks.com/products/yed)"
   ]
  },
  {
   "cell_type": "markdown",
   "metadata": {
    "deletable": true,
    "editable": true
   },
   "source": []
  }
 ],
 "metadata": {
  "celltoolbar": "Slideshow",
  "kernelspec": {
   "display_name": "Python 2",
   "language": "python",
   "name": "python2"
  },
  "language_info": {
   "codemirror_mode": {
    "name": "ipython",
    "version": 2
   },
   "file_extension": ".py",
   "mimetype": "text/x-python",
   "name": "python",
   "nbconvert_exporter": "python",
   "pygments_lexer": "ipython2",
   "version": "2.7.11+"
  }
 },
 "nbformat": 4,
 "nbformat_minor": 2
}
